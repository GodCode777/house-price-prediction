{
  "nbformat": 4,
  "nbformat_minor": 0,
  "metadata": {
    "colab": {
      "provenance": []
    },
    "kernelspec": {
      "name": "python3",
      "display_name": "Python 3"
    },
    "language_info": {
      "name": "python"
    }
  },
  "cells": [
    {
      "cell_type": "code",
      "execution_count": 1,
      "metadata": {
        "id": "jZG0wrPRq0Az",
        "colab": {
          "base_uri": "https://localhost:8080/"
        },
        "outputId": "893c1810-dcf9-4654-b405-a6930b02c3ff"
      },
      "outputs": [
        {
          "output_type": "stream",
          "name": "stdout",
          "text": [
            "Mounted at /content/drive\n"
          ]
        }
      ],
      "source": [
        "from google.colab import drive\n",
        "drive.mount('/content/drive')"
      ]
    },
    {
      "cell_type": "code",
      "source": [
        "import numpy as np\n",
        "import pandas as pd\n",
        "from sklearn.model_selection import train_test_split\n",
        "from sklearn.linear_model import LinearRegression\n",
        "import sklearn.metrics\n",
        "from sklearn.preprocessing import PolynomialFeatures\n",
        "from sklearn.pipeline import make_pipeline\n",
        "import random\n",
        "import seaborn as sns\n",
        "import matplotlib.pyplot as plt\n",
        "from sklearn.linear_model import Ridge\n",
        "from sklearn.linear_model import Lasso\n",
        "from sklearn.tree import DecisionTreeRegressor\n",
        "import pickle"
      ],
      "metadata": {
        "id": "lSBzOQkCtGKz"
      },
      "execution_count": 2,
      "outputs": []
    },
    {
      "cell_type": "markdown",
      "source": [
        "# TESTING DIFFERENT MODELS AND FEATURE EXTRACTION"
      ],
      "metadata": {
        "id": "qv2dJVTQQ2Rw"
      }
    },
    {
      "cell_type": "code",
      "source": [
        "data = pd.read_excel('/content/drive/MyDrive/PC503_project/data/main_data_houses.xlsx')"
      ],
      "metadata": {
        "id": "upuovRziFWOI"
      },
      "execution_count": null,
      "outputs": []
    },
    {
      "cell_type": "code",
      "source": [
        "data.shape"
      ],
      "metadata": {
        "colab": {
          "base_uri": "https://localhost:8080/"
        },
        "id": "j2s2ilmGFfbp",
        "outputId": "36ec6d12-648d-4800-ea92-c62aaa76989f"
      },
      "execution_count": null,
      "outputs": [
        {
          "output_type": "execute_result",
          "data": {
            "text/plain": [
              "(10764, 15)"
            ]
          },
          "metadata": {},
          "execution_count": 4
        }
      ]
    },
    {
      "cell_type": "code",
      "source": [
        "data = data.drop(['Unnamed: 0', 'id'], axis = 1)\n",
        "data.head()"
      ],
      "metadata": {
        "colab": {
          "base_uri": "https://localhost:8080/",
          "height": 206
        },
        "id": "le1XKH7XFmNR",
        "outputId": "5b66995a-aa8e-4452-e32b-a54b6bb76229"
      },
      "execution_count": null,
      "outputs": [
        {
          "output_type": "execute_result",
          "data": {
            "text/plain": [
              "   bed  bath  reception  terrace  house  flat  bungalow     tenure        lat  \\\n",
              "0    2     1          1        1      1     0         0   Freehold  52.517835   \n",
              "1    2     2          1        0      0     1         0  Leasehold  52.486527   \n",
              "2    4     1          1        1      1     0         0   Freehold  52.453875   \n",
              "3    3     1          1        0      1     0         0   Freehold  52.418401   \n",
              "4    2     2          1        0      0     1         0  Leasehold  52.449617   \n",
              "\n",
              "        lon  ch  dg   price  \n",
              "0 -1.857425   1   1  170000  \n",
              "1 -1.900266   0   0  220000  \n",
              "2 -1.908403   1   1  365000  \n",
              "3 -1.909689   1   1  320000  \n",
              "4 -1.890636   1   1  200000  "
            ],
            "text/html": [
              "\n",
              "  <div id=\"df-d560fe84-9bec-4742-810e-13fe1420baab\">\n",
              "    <div class=\"colab-df-container\">\n",
              "      <div>\n",
              "<style scoped>\n",
              "    .dataframe tbody tr th:only-of-type {\n",
              "        vertical-align: middle;\n",
              "    }\n",
              "\n",
              "    .dataframe tbody tr th {\n",
              "        vertical-align: top;\n",
              "    }\n",
              "\n",
              "    .dataframe thead th {\n",
              "        text-align: right;\n",
              "    }\n",
              "</style>\n",
              "<table border=\"1\" class=\"dataframe\">\n",
              "  <thead>\n",
              "    <tr style=\"text-align: right;\">\n",
              "      <th></th>\n",
              "      <th>bed</th>\n",
              "      <th>bath</th>\n",
              "      <th>reception</th>\n",
              "      <th>terrace</th>\n",
              "      <th>house</th>\n",
              "      <th>flat</th>\n",
              "      <th>bungalow</th>\n",
              "      <th>tenure</th>\n",
              "      <th>lat</th>\n",
              "      <th>lon</th>\n",
              "      <th>ch</th>\n",
              "      <th>dg</th>\n",
              "      <th>price</th>\n",
              "    </tr>\n",
              "  </thead>\n",
              "  <tbody>\n",
              "    <tr>\n",
              "      <th>0</th>\n",
              "      <td>2</td>\n",
              "      <td>1</td>\n",
              "      <td>1</td>\n",
              "      <td>1</td>\n",
              "      <td>1</td>\n",
              "      <td>0</td>\n",
              "      <td>0</td>\n",
              "      <td>Freehold</td>\n",
              "      <td>52.517835</td>\n",
              "      <td>-1.857425</td>\n",
              "      <td>1</td>\n",
              "      <td>1</td>\n",
              "      <td>170000</td>\n",
              "    </tr>\n",
              "    <tr>\n",
              "      <th>1</th>\n",
              "      <td>2</td>\n",
              "      <td>2</td>\n",
              "      <td>1</td>\n",
              "      <td>0</td>\n",
              "      <td>0</td>\n",
              "      <td>1</td>\n",
              "      <td>0</td>\n",
              "      <td>Leasehold</td>\n",
              "      <td>52.486527</td>\n",
              "      <td>-1.900266</td>\n",
              "      <td>0</td>\n",
              "      <td>0</td>\n",
              "      <td>220000</td>\n",
              "    </tr>\n",
              "    <tr>\n",
              "      <th>2</th>\n",
              "      <td>4</td>\n",
              "      <td>1</td>\n",
              "      <td>1</td>\n",
              "      <td>1</td>\n",
              "      <td>1</td>\n",
              "      <td>0</td>\n",
              "      <td>0</td>\n",
              "      <td>Freehold</td>\n",
              "      <td>52.453875</td>\n",
              "      <td>-1.908403</td>\n",
              "      <td>1</td>\n",
              "      <td>1</td>\n",
              "      <td>365000</td>\n",
              "    </tr>\n",
              "    <tr>\n",
              "      <th>3</th>\n",
              "      <td>3</td>\n",
              "      <td>1</td>\n",
              "      <td>1</td>\n",
              "      <td>0</td>\n",
              "      <td>1</td>\n",
              "      <td>0</td>\n",
              "      <td>0</td>\n",
              "      <td>Freehold</td>\n",
              "      <td>52.418401</td>\n",
              "      <td>-1.909689</td>\n",
              "      <td>1</td>\n",
              "      <td>1</td>\n",
              "      <td>320000</td>\n",
              "    </tr>\n",
              "    <tr>\n",
              "      <th>4</th>\n",
              "      <td>2</td>\n",
              "      <td>2</td>\n",
              "      <td>1</td>\n",
              "      <td>0</td>\n",
              "      <td>0</td>\n",
              "      <td>1</td>\n",
              "      <td>0</td>\n",
              "      <td>Leasehold</td>\n",
              "      <td>52.449617</td>\n",
              "      <td>-1.890636</td>\n",
              "      <td>1</td>\n",
              "      <td>1</td>\n",
              "      <td>200000</td>\n",
              "    </tr>\n",
              "  </tbody>\n",
              "</table>\n",
              "</div>\n",
              "      <button class=\"colab-df-convert\" onclick=\"convertToInteractive('df-d560fe84-9bec-4742-810e-13fe1420baab')\"\n",
              "              title=\"Convert this dataframe to an interactive table.\"\n",
              "              style=\"display:none;\">\n",
              "        \n",
              "  <svg xmlns=\"http://www.w3.org/2000/svg\" height=\"24px\"viewBox=\"0 0 24 24\"\n",
              "       width=\"24px\">\n",
              "    <path d=\"M0 0h24v24H0V0z\" fill=\"none\"/>\n",
              "    <path d=\"M18.56 5.44l.94 2.06.94-2.06 2.06-.94-2.06-.94-.94-2.06-.94 2.06-2.06.94zm-11 1L8.5 8.5l.94-2.06 2.06-.94-2.06-.94L8.5 2.5l-.94 2.06-2.06.94zm10 10l.94 2.06.94-2.06 2.06-.94-2.06-.94-.94-2.06-.94 2.06-2.06.94z\"/><path d=\"M17.41 7.96l-1.37-1.37c-.4-.4-.92-.59-1.43-.59-.52 0-1.04.2-1.43.59L10.3 9.45l-7.72 7.72c-.78.78-.78 2.05 0 2.83L4 21.41c.39.39.9.59 1.41.59.51 0 1.02-.2 1.41-.59l7.78-7.78 2.81-2.81c.8-.78.8-2.07 0-2.86zM5.41 20L4 18.59l7.72-7.72 1.47 1.35L5.41 20z\"/>\n",
              "  </svg>\n",
              "      </button>\n",
              "      \n",
              "  <style>\n",
              "    .colab-df-container {\n",
              "      display:flex;\n",
              "      flex-wrap:wrap;\n",
              "      gap: 12px;\n",
              "    }\n",
              "\n",
              "    .colab-df-convert {\n",
              "      background-color: #E8F0FE;\n",
              "      border: none;\n",
              "      border-radius: 50%;\n",
              "      cursor: pointer;\n",
              "      display: none;\n",
              "      fill: #1967D2;\n",
              "      height: 32px;\n",
              "      padding: 0 0 0 0;\n",
              "      width: 32px;\n",
              "    }\n",
              "\n",
              "    .colab-df-convert:hover {\n",
              "      background-color: #E2EBFA;\n",
              "      box-shadow: 0px 1px 2px rgba(60, 64, 67, 0.3), 0px 1px 3px 1px rgba(60, 64, 67, 0.15);\n",
              "      fill: #174EA6;\n",
              "    }\n",
              "\n",
              "    [theme=dark] .colab-df-convert {\n",
              "      background-color: #3B4455;\n",
              "      fill: #D2E3FC;\n",
              "    }\n",
              "\n",
              "    [theme=dark] .colab-df-convert:hover {\n",
              "      background-color: #434B5C;\n",
              "      box-shadow: 0px 1px 3px 1px rgba(0, 0, 0, 0.15);\n",
              "      filter: drop-shadow(0px 1px 2px rgba(0, 0, 0, 0.3));\n",
              "      fill: #FFFFFF;\n",
              "    }\n",
              "  </style>\n",
              "\n",
              "      <script>\n",
              "        const buttonEl =\n",
              "          document.querySelector('#df-d560fe84-9bec-4742-810e-13fe1420baab button.colab-df-convert');\n",
              "        buttonEl.style.display =\n",
              "          google.colab.kernel.accessAllowed ? 'block' : 'none';\n",
              "\n",
              "        async function convertToInteractive(key) {\n",
              "          const element = document.querySelector('#df-d560fe84-9bec-4742-810e-13fe1420baab');\n",
              "          const dataTable =\n",
              "            await google.colab.kernel.invokeFunction('convertToInteractive',\n",
              "                                                     [key], {});\n",
              "          if (!dataTable) return;\n",
              "\n",
              "          const docLinkHtml = 'Like what you see? Visit the ' +\n",
              "            '<a target=\"_blank\" href=https://colab.research.google.com/notebooks/data_table.ipynb>data table notebook</a>'\n",
              "            + ' to learn more about interactive tables.';\n",
              "          element.innerHTML = '';\n",
              "          dataTable['output_type'] = 'display_data';\n",
              "          await google.colab.output.renderOutput(dataTable, element);\n",
              "          const docLink = document.createElement('div');\n",
              "          docLink.innerHTML = docLinkHtml;\n",
              "          element.appendChild(docLink);\n",
              "        }\n",
              "      </script>\n",
              "    </div>\n",
              "  </div>\n",
              "  "
            ]
          },
          "metadata": {},
          "execution_count": 5
        }
      ]
    },
    {
      "cell_type": "code",
      "source": [
        "data.tenure.unique()"
      ],
      "metadata": {
        "colab": {
          "base_uri": "https://localhost:8080/"
        },
        "id": "dtxPCq9zFxI3",
        "outputId": "49757c0d-55d4-450a-f552-0ad0b4704114"
      },
      "execution_count": null,
      "outputs": [
        {
          "output_type": "execute_result",
          "data": {
            "text/plain": [
              "array(['Freehold', 'Leasehold', 'Not available', 'Share of freehold'],\n",
              "      dtype=object)"
            ]
          },
          "metadata": {},
          "execution_count": 6
        }
      ]
    },
    {
      "cell_type": "code",
      "source": [
        "# tenure categorical to numerical\n",
        "tenure_data = {'Freehold':0, 'Leasehold':1, 'Not available':2, 'Share of freehold':0}\n",
        "\n",
        "data['tenure'] = data['tenure'].replace(tenure_data.keys(), tenure_data.values())\n",
        "data.head()"
      ],
      "metadata": {
        "colab": {
          "base_uri": "https://localhost:8080/",
          "height": 206
        },
        "id": "qPUmutdOGIMS",
        "outputId": "e0808c9d-8f89-433d-b9ea-4a3f554d5e6b"
      },
      "execution_count": null,
      "outputs": [
        {
          "output_type": "execute_result",
          "data": {
            "text/plain": [
              "   bed  bath  reception  terrace  house  flat  bungalow  tenure        lat  \\\n",
              "0    2     1          1        1      1     0         0       0  52.517835   \n",
              "1    2     2          1        0      0     1         0       1  52.486527   \n",
              "2    4     1          1        1      1     0         0       0  52.453875   \n",
              "3    3     1          1        0      1     0         0       0  52.418401   \n",
              "4    2     2          1        0      0     1         0       1  52.449617   \n",
              "\n",
              "        lon  ch  dg   price  \n",
              "0 -1.857425   1   1  170000  \n",
              "1 -1.900266   0   0  220000  \n",
              "2 -1.908403   1   1  365000  \n",
              "3 -1.909689   1   1  320000  \n",
              "4 -1.890636   1   1  200000  "
            ],
            "text/html": [
              "\n",
              "  <div id=\"df-37efbc40-7d51-45ad-b69a-97dfb8c10c73\">\n",
              "    <div class=\"colab-df-container\">\n",
              "      <div>\n",
              "<style scoped>\n",
              "    .dataframe tbody tr th:only-of-type {\n",
              "        vertical-align: middle;\n",
              "    }\n",
              "\n",
              "    .dataframe tbody tr th {\n",
              "        vertical-align: top;\n",
              "    }\n",
              "\n",
              "    .dataframe thead th {\n",
              "        text-align: right;\n",
              "    }\n",
              "</style>\n",
              "<table border=\"1\" class=\"dataframe\">\n",
              "  <thead>\n",
              "    <tr style=\"text-align: right;\">\n",
              "      <th></th>\n",
              "      <th>bed</th>\n",
              "      <th>bath</th>\n",
              "      <th>reception</th>\n",
              "      <th>terrace</th>\n",
              "      <th>house</th>\n",
              "      <th>flat</th>\n",
              "      <th>bungalow</th>\n",
              "      <th>tenure</th>\n",
              "      <th>lat</th>\n",
              "      <th>lon</th>\n",
              "      <th>ch</th>\n",
              "      <th>dg</th>\n",
              "      <th>price</th>\n",
              "    </tr>\n",
              "  </thead>\n",
              "  <tbody>\n",
              "    <tr>\n",
              "      <th>0</th>\n",
              "      <td>2</td>\n",
              "      <td>1</td>\n",
              "      <td>1</td>\n",
              "      <td>1</td>\n",
              "      <td>1</td>\n",
              "      <td>0</td>\n",
              "      <td>0</td>\n",
              "      <td>0</td>\n",
              "      <td>52.517835</td>\n",
              "      <td>-1.857425</td>\n",
              "      <td>1</td>\n",
              "      <td>1</td>\n",
              "      <td>170000</td>\n",
              "    </tr>\n",
              "    <tr>\n",
              "      <th>1</th>\n",
              "      <td>2</td>\n",
              "      <td>2</td>\n",
              "      <td>1</td>\n",
              "      <td>0</td>\n",
              "      <td>0</td>\n",
              "      <td>1</td>\n",
              "      <td>0</td>\n",
              "      <td>1</td>\n",
              "      <td>52.486527</td>\n",
              "      <td>-1.900266</td>\n",
              "      <td>0</td>\n",
              "      <td>0</td>\n",
              "      <td>220000</td>\n",
              "    </tr>\n",
              "    <tr>\n",
              "      <th>2</th>\n",
              "      <td>4</td>\n",
              "      <td>1</td>\n",
              "      <td>1</td>\n",
              "      <td>1</td>\n",
              "      <td>1</td>\n",
              "      <td>0</td>\n",
              "      <td>0</td>\n",
              "      <td>0</td>\n",
              "      <td>52.453875</td>\n",
              "      <td>-1.908403</td>\n",
              "      <td>1</td>\n",
              "      <td>1</td>\n",
              "      <td>365000</td>\n",
              "    </tr>\n",
              "    <tr>\n",
              "      <th>3</th>\n",
              "      <td>3</td>\n",
              "      <td>1</td>\n",
              "      <td>1</td>\n",
              "      <td>0</td>\n",
              "      <td>1</td>\n",
              "      <td>0</td>\n",
              "      <td>0</td>\n",
              "      <td>0</td>\n",
              "      <td>52.418401</td>\n",
              "      <td>-1.909689</td>\n",
              "      <td>1</td>\n",
              "      <td>1</td>\n",
              "      <td>320000</td>\n",
              "    </tr>\n",
              "    <tr>\n",
              "      <th>4</th>\n",
              "      <td>2</td>\n",
              "      <td>2</td>\n",
              "      <td>1</td>\n",
              "      <td>0</td>\n",
              "      <td>0</td>\n",
              "      <td>1</td>\n",
              "      <td>0</td>\n",
              "      <td>1</td>\n",
              "      <td>52.449617</td>\n",
              "      <td>-1.890636</td>\n",
              "      <td>1</td>\n",
              "      <td>1</td>\n",
              "      <td>200000</td>\n",
              "    </tr>\n",
              "  </tbody>\n",
              "</table>\n",
              "</div>\n",
              "      <button class=\"colab-df-convert\" onclick=\"convertToInteractive('df-37efbc40-7d51-45ad-b69a-97dfb8c10c73')\"\n",
              "              title=\"Convert this dataframe to an interactive table.\"\n",
              "              style=\"display:none;\">\n",
              "        \n",
              "  <svg xmlns=\"http://www.w3.org/2000/svg\" height=\"24px\"viewBox=\"0 0 24 24\"\n",
              "       width=\"24px\">\n",
              "    <path d=\"M0 0h24v24H0V0z\" fill=\"none\"/>\n",
              "    <path d=\"M18.56 5.44l.94 2.06.94-2.06 2.06-.94-2.06-.94-.94-2.06-.94 2.06-2.06.94zm-11 1L8.5 8.5l.94-2.06 2.06-.94-2.06-.94L8.5 2.5l-.94 2.06-2.06.94zm10 10l.94 2.06.94-2.06 2.06-.94-2.06-.94-.94-2.06-.94 2.06-2.06.94z\"/><path d=\"M17.41 7.96l-1.37-1.37c-.4-.4-.92-.59-1.43-.59-.52 0-1.04.2-1.43.59L10.3 9.45l-7.72 7.72c-.78.78-.78 2.05 0 2.83L4 21.41c.39.39.9.59 1.41.59.51 0 1.02-.2 1.41-.59l7.78-7.78 2.81-2.81c.8-.78.8-2.07 0-2.86zM5.41 20L4 18.59l7.72-7.72 1.47 1.35L5.41 20z\"/>\n",
              "  </svg>\n",
              "      </button>\n",
              "      \n",
              "  <style>\n",
              "    .colab-df-container {\n",
              "      display:flex;\n",
              "      flex-wrap:wrap;\n",
              "      gap: 12px;\n",
              "    }\n",
              "\n",
              "    .colab-df-convert {\n",
              "      background-color: #E8F0FE;\n",
              "      border: none;\n",
              "      border-radius: 50%;\n",
              "      cursor: pointer;\n",
              "      display: none;\n",
              "      fill: #1967D2;\n",
              "      height: 32px;\n",
              "      padding: 0 0 0 0;\n",
              "      width: 32px;\n",
              "    }\n",
              "\n",
              "    .colab-df-convert:hover {\n",
              "      background-color: #E2EBFA;\n",
              "      box-shadow: 0px 1px 2px rgba(60, 64, 67, 0.3), 0px 1px 3px 1px rgba(60, 64, 67, 0.15);\n",
              "      fill: #174EA6;\n",
              "    }\n",
              "\n",
              "    [theme=dark] .colab-df-convert {\n",
              "      background-color: #3B4455;\n",
              "      fill: #D2E3FC;\n",
              "    }\n",
              "\n",
              "    [theme=dark] .colab-df-convert:hover {\n",
              "      background-color: #434B5C;\n",
              "      box-shadow: 0px 1px 3px 1px rgba(0, 0, 0, 0.15);\n",
              "      filter: drop-shadow(0px 1px 2px rgba(0, 0, 0, 0.3));\n",
              "      fill: #FFFFFF;\n",
              "    }\n",
              "  </style>\n",
              "\n",
              "      <script>\n",
              "        const buttonEl =\n",
              "          document.querySelector('#df-37efbc40-7d51-45ad-b69a-97dfb8c10c73 button.colab-df-convert');\n",
              "        buttonEl.style.display =\n",
              "          google.colab.kernel.accessAllowed ? 'block' : 'none';\n",
              "\n",
              "        async function convertToInteractive(key) {\n",
              "          const element = document.querySelector('#df-37efbc40-7d51-45ad-b69a-97dfb8c10c73');\n",
              "          const dataTable =\n",
              "            await google.colab.kernel.invokeFunction('convertToInteractive',\n",
              "                                                     [key], {});\n",
              "          if (!dataTable) return;\n",
              "\n",
              "          const docLinkHtml = 'Like what you see? Visit the ' +\n",
              "            '<a target=\"_blank\" href=https://colab.research.google.com/notebooks/data_table.ipynb>data table notebook</a>'\n",
              "            + ' to learn more about interactive tables.';\n",
              "          element.innerHTML = '';\n",
              "          dataTable['output_type'] = 'display_data';\n",
              "          await google.colab.output.renderOutput(dataTable, element);\n",
              "          const docLink = document.createElement('div');\n",
              "          docLink.innerHTML = docLinkHtml;\n",
              "          element.appendChild(docLink);\n",
              "        }\n",
              "      </script>\n",
              "    </div>\n",
              "  </div>\n",
              "  "
            ]
          },
          "metadata": {},
          "execution_count": 7
        }
      ]
    },
    {
      "cell_type": "code",
      "source": [
        "data.columns"
      ],
      "metadata": {
        "colab": {
          "base_uri": "https://localhost:8080/"
        },
        "id": "z2YCMhw7HXbO",
        "outputId": "38227d71-962d-4596-99bc-51691f2c7301"
      },
      "execution_count": null,
      "outputs": [
        {
          "output_type": "execute_result",
          "data": {
            "text/plain": [
              "Index(['bed', 'bath', 'reception', 'terrace', 'house', 'flat', 'bungalow',\n",
              "       'tenure', 'lat', 'lon', 'ch', 'dg', 'price'],\n",
              "      dtype='object')"
            ]
          },
          "metadata": {},
          "execution_count": 8
        }
      ]
    },
    {
      "cell_type": "code",
      "source": [
        "x = data[['bed', 'bath', 'reception','house', 'flat', 'bungalow', 'lat', 'lon']]\n",
        "\n",
        "# ['bed', 'bath', 'reception', 'terrace', 'house', 'flat', 'bungalow', 'tenure', 'lat', 'lon', 'ch', 'dg']\n",
        "\n",
        "y = data['price']\n",
        "\n",
        "X_train, X_test, y_train, y_test = train_test_split(x, y, test_size=0.33, random_state=42)"
      ],
      "metadata": {
        "id": "4kD0id0NG-jd"
      },
      "execution_count": null,
      "outputs": []
    },
    {
      "cell_type": "code",
      "source": [
        "plt.figure(figsize = (10,10))\n",
        "sns.heatmap(data.corr(), annot = True)"
      ],
      "metadata": {
        "colab": {
          "base_uri": "https://localhost:8080/",
          "height": 651
        },
        "id": "Kud3ZUYGyu-2",
        "outputId": "a36eeadf-87df-4b3a-d15c-f7f8b42e2d4d"
      },
      "execution_count": null,
      "outputs": [
        {
          "output_type": "execute_result",
          "data": {
            "text/plain": [
              "<matplotlib.axes._subplots.AxesSubplot at 0x7fb55bc07910>"
            ]
          },
          "metadata": {},
          "execution_count": 29
        },
        {
          "output_type": "display_data",
          "data": {
            "text/plain": [
              "<Figure size 720x720 with 2 Axes>"
            ],
            "image/png": "[encoded data removed]"
          },
          "metadata": {
            "needs_background": "light"
          }
        }
      ]
    },
    {
      "cell_type": "markdown",
      "source": [
        "## Linear Regression"
      ],
      "metadata": {
        "id": "WgPyz3IDI3KK"
      }
    },
    {
      "cell_type": "code",
      "source": [
        "# lr = LinearRegression().fit(x.iloc[:200], y.iloc[:200])\n",
        "lr = LinearRegression().fit(X_train, y_train)\n",
        "# rmse_lr = sklearn.metrics.mean_squared_error(lr.predict(x.iloc[:100]), y.iloc[:100])\n",
        "# rmse_lr\n",
        "\n",
        "clf = Ridge(alpha=2**-4)\n",
        "clf.fit(x.iloc[:500], y.iloc[:500])\n",
        "pd.DataFrame([lr.predict(X_test), y_test]).T"
      ],
      "metadata": {
        "id": "QmxaJF_CHgvk",
        "colab": {
          "base_uri": "https://localhost:8080/",
          "height": 424
        },
        "outputId": "f2a23007-d4c1-475a-accf-4397f6aa3923"
      },
      "execution_count": null,
      "outputs": [
        {
          "output_type": "execute_result",
          "data": {
            "text/plain": [
              "                 0          1\n",
              "0     5.154013e+05   130000.0\n",
              "1     2.650727e+05   500000.0\n",
              "2     4.159538e+05   300000.0\n",
              "3     4.872855e+05   325000.0\n",
              "4     2.142664e+06  6950000.0\n",
              "...            ...        ...\n",
              "3548  3.742239e+05   265000.0\n",
              "3549  4.234820e+05   425000.0\n",
              "3550  3.876376e+05   400000.0\n",
              "3551  3.615635e+05   189950.0\n",
              "3552  3.301637e+05   205000.0\n",
              "\n",
              "[3553 rows x 2 columns]"
            ],
            "text/html": [
              "\n",
              "  <div id=\"df-97b553e6-0cce-48ef-9e85-57d8e6fbe034\">\n",
              "    <div class=\"colab-df-container\">\n",
              "      <div>\n",
              "<style scoped>\n",
              "    .dataframe tbody tr th:only-of-type {\n",
              "        vertical-align: middle;\n",
              "    }\n",
              "\n",
              "    .dataframe tbody tr th {\n",
              "        vertical-align: top;\n",
              "    }\n",
              "\n",
              "    .dataframe thead th {\n",
              "        text-align: right;\n",
              "    }\n",
              "</style>\n",
              "<table border=\"1\" class=\"dataframe\">\n",
              "  <thead>\n",
              "    <tr style=\"text-align: right;\">\n",
              "      <th></th>\n",
              "      <th>0</th>\n",
              "      <th>1</th>\n",
              "    </tr>\n",
              "  </thead>\n",
              "  <tbody>\n",
              "    <tr>\n",
              "      <th>0</th>\n",
              "      <td>5.154013e+05</td>\n",
              "      <td>130000.0</td>\n",
              "    </tr>\n",
              "    <tr>\n",
              "      <th>1</th>\n",
              "      <td>2.650727e+05</td>\n",
              "      <td>500000.0</td>\n",
              "    </tr>\n",
              "    <tr>\n",
              "      <th>2</th>\n",
              "      <td>4.159538e+05</td>\n",
              "      <td>300000.0</td>\n",
              "    </tr>\n",
              "    <tr>\n",
              "      <th>3</th>\n",
              "      <td>4.872855e+05</td>\n",
              "      <td>325000.0</td>\n",
              "    </tr>\n",
              "    <tr>\n",
              "      <th>4</th>\n",
              "      <td>2.142664e+06</td>\n",
              "      <td>6950000.0</td>\n",
              "    </tr>\n",
              "    <tr>\n",
              "      <th>...</th>\n",
              "      <td>...</td>\n",
              "      <td>...</td>\n",
              "    </tr>\n",
              "    <tr>\n",
              "      <th>3548</th>\n",
              "      <td>3.742239e+05</td>\n",
              "      <td>265000.0</td>\n",
              "    </tr>\n",
              "    <tr>\n",
              "      <th>3549</th>\n",
              "      <td>4.234820e+05</td>\n",
              "      <td>425000.0</td>\n",
              "    </tr>\n",
              "    <tr>\n",
              "      <th>3550</th>\n",
              "      <td>3.876376e+05</td>\n",
              "      <td>400000.0</td>\n",
              "    </tr>\n",
              "    <tr>\n",
              "      <th>3551</th>\n",
              "      <td>3.615635e+05</td>\n",
              "      <td>189950.0</td>\n",
              "    </tr>\n",
              "    <tr>\n",
              "      <th>3552</th>\n",
              "      <td>3.301637e+05</td>\n",
              "      <td>205000.0</td>\n",
              "    </tr>\n",
              "  </tbody>\n",
              "</table>\n",
              "<p>3553 rows × 2 columns</p>\n",
              "</div>\n",
              "      <button class=\"colab-df-convert\" onclick=\"convertToInteractive('df-97b553e6-0cce-48ef-9e85-57d8e6fbe034')\"\n",
              "              title=\"Convert this dataframe to an interactive table.\"\n",
              "              style=\"display:none;\">\n",
              "        \n",
              "  <svg xmlns=\"http://www.w3.org/2000/svg\" height=\"24px\"viewBox=\"0 0 24 24\"\n",
              "       width=\"24px\">\n",
              "    <path d=\"M0 0h24v24H0V0z\" fill=\"none\"/>\n",
              "    <path d=\"M18.56 5.44l.94 2.06.94-2.06 2.06-.94-2.06-.94-.94-2.06-.94 2.06-2.06.94zm-11 1L8.5 8.5l.94-2.06 2.06-.94-2.06-.94L8.5 2.5l-.94 2.06-2.06.94zm10 10l.94 2.06.94-2.06 2.06-.94-2.06-.94-.94-2.06-.94 2.06-2.06.94z\"/><path d=\"M17.41 7.96l-1.37-1.37c-.4-.4-.92-.59-1.43-.59-.52 0-1.04.2-1.43.59L10.3 9.45l-7.72 7.72c-.78.78-.78 2.05 0 2.83L4 21.41c.39.39.9.59 1.41.59.51 0 1.02-.2 1.41-.59l7.78-7.78 2.81-2.81c.8-.78.8-2.07 0-2.86zM5.41 20L4 18.59l7.72-7.72 1.47 1.35L5.41 20z\"/>\n",
              "  </svg>\n",
              "      </button>\n",
              "      \n",
              "  <style>\n",
              "    .colab-df-container {\n",
              "      display:flex;\n",
              "      flex-wrap:wrap;\n",
              "      gap: 12px;\n",
              "    }\n",
              "\n",
              "    .colab-df-convert {\n",
              "      background-color: #E8F0FE;\n",
              "      border: none;\n",
              "      border-radius: 50%;\n",
              "      cursor: pointer;\n",
              "      display: none;\n",
              "      fill: #1967D2;\n",
              "      height: 32px;\n",
              "      padding: 0 0 0 0;\n",
              "      width: 32px;\n",
              "    }\n",
              "\n",
              "    .colab-df-convert:hover {\n",
              "      background-color: #E2EBFA;\n",
              "      box-shadow: 0px 1px 2px rgba(60, 64, 67, 0.3), 0px 1px 3px 1px rgba(60, 64, 67, 0.15);\n",
              "      fill: #174EA6;\n",
              "    }\n",
              "\n",
              "    [theme=dark] .colab-df-convert {\n",
              "      background-color: #3B4455;\n",
              "      fill: #D2E3FC;\n",
              "    }\n",
              "\n",
              "    [theme=dark] .colab-df-convert:hover {\n",
              "      background-color: #434B5C;\n",
              "      box-shadow: 0px 1px 3px 1px rgba(0, 0, 0, 0.15);\n",
              "      filter: drop-shadow(0px 1px 2px rgba(0, 0, 0, 0.3));\n",
              "      fill: #FFFFFF;\n",
              "    }\n",
              "  </style>\n",
              "\n",
              "      <script>\n",
              "        const buttonEl =\n",
              "          document.querySelector('#df-97b553e6-0cce-48ef-9e85-57d8e6fbe034 button.colab-df-convert');\n",
              "        buttonEl.style.display =\n",
              "          google.colab.kernel.accessAllowed ? 'block' : 'none';\n",
              "\n",
              "        async function convertToInteractive(key) {\n",
              "          const element = document.querySelector('#df-97b553e6-0cce-48ef-9e85-57d8e6fbe034');\n",
              "          const dataTable =\n",
              "            await google.colab.kernel.invokeFunction('convertToInteractive',\n",
              "                                                     [key], {});\n",
              "          if (!dataTable) return;\n",
              "\n",
              "          const docLinkHtml = 'Like what you see? Visit the ' +\n",
              "            '<a target=\"_blank\" href=https://colab.research.google.com/notebooks/data_table.ipynb>data table notebook</a>'\n",
              "            + ' to learn more about interactive tables.';\n",
              "          element.innerHTML = '';\n",
              "          dataTable['output_type'] = 'display_data';\n",
              "          await google.colab.output.renderOutput(dataTable, element);\n",
              "          const docLink = document.createElement('div');\n",
              "          docLink.innerHTML = docLinkHtml;\n",
              "          element.appendChild(docLink);\n",
              "        }\n",
              "      </script>\n",
              "    </div>\n",
              "  </div>\n",
              "  "
            ]
          },
          "metadata": {},
          "execution_count": 11
        }
      ]
    },
    {
      "cell_type": "code",
      "source": [
        "pd.DataFrame([lr.predict(x.iloc[:500]), y.iloc[:500]]).T"
      ],
      "metadata": {
        "colab": {
          "base_uri": "https://localhost:8080/",
          "height": 424
        },
        "id": "LzDzuRPLzsXF",
        "outputId": "c16ffdfc-c885-4102-8edb-9430a19f8916"
      },
      "execution_count": null,
      "outputs": [
        {
          "output_type": "execute_result",
          "data": {
            "text/plain": [
              "                 0         1\n",
              "0    134424.611618  170000.0\n",
              "1    307984.340606  220000.0\n",
              "2    288749.647002  365000.0\n",
              "3    289914.321334  320000.0\n",
              "4    263536.308547  200000.0\n",
              "..             ...       ...\n",
              "495  532238.025828  349950.0\n",
              "496  378259.376052  550000.0\n",
              "497  301417.768073  295000.0\n",
              "498  339561.210438  350000.0\n",
              "499  546019.238191  525000.0\n",
              "\n",
              "[500 rows x 2 columns]"
            ],
            "text/html": [
              "\n",
              "  <div id=\"df-9de7671d-b02c-4386-9176-e213d2a490f6\">\n",
              "    <div class=\"colab-df-container\">\n",
              "      <div>\n",
              "<style scoped>\n",
              "    .dataframe tbody tr th:only-of-type {\n",
              "        vertical-align: middle;\n",
              "    }\n",
              "\n",
              "    .dataframe tbody tr th {\n",
              "        vertical-align: top;\n",
              "    }\n",
              "\n",
              "    .dataframe thead th {\n",
              "        text-align: right;\n",
              "    }\n",
              "</style>\n",
              "<table border=\"1\" class=\"dataframe\">\n",
              "  <thead>\n",
              "    <tr style=\"text-align: right;\">\n",
              "      <th></th>\n",
              "      <th>0</th>\n",
              "      <th>1</th>\n",
              "    </tr>\n",
              "  </thead>\n",
              "  <tbody>\n",
              "    <tr>\n",
              "      <th>0</th>\n",
              "      <td>134424.611618</td>\n",
              "      <td>170000.0</td>\n",
              "    </tr>\n",
              "    <tr>\n",
              "      <th>1</th>\n",
              "      <td>307984.340606</td>\n",
              "      <td>220000.0</td>\n",
              "    </tr>\n",
              "    <tr>\n",
              "      <th>2</th>\n",
              "      <td>288749.647002</td>\n",
              "      <td>365000.0</td>\n",
              "    </tr>\n",
              "    <tr>\n",
              "      <th>3</th>\n",
              "      <td>289914.321334</td>\n",
              "      <td>320000.0</td>\n",
              "    </tr>\n",
              "    <tr>\n",
              "      <th>4</th>\n",
              "      <td>263536.308547</td>\n",
              "      <td>200000.0</td>\n",
              "    </tr>\n",
              "    <tr>\n",
              "      <th>...</th>\n",
              "      <td>...</td>\n",
              "      <td>...</td>\n",
              "    </tr>\n",
              "    <tr>\n",
              "      <th>495</th>\n",
              "      <td>532238.025828</td>\n",
              "      <td>349950.0</td>\n",
              "    </tr>\n",
              "    <tr>\n",
              "      <th>496</th>\n",
              "      <td>378259.376052</td>\n",
              "      <td>550000.0</td>\n",
              "    </tr>\n",
              "    <tr>\n",
              "      <th>497</th>\n",
              "      <td>301417.768073</td>\n",
              "      <td>295000.0</td>\n",
              "    </tr>\n",
              "    <tr>\n",
              "      <th>498</th>\n",
              "      <td>339561.210438</td>\n",
              "      <td>350000.0</td>\n",
              "    </tr>\n",
              "    <tr>\n",
              "      <th>499</th>\n",
              "      <td>546019.238191</td>\n",
              "      <td>525000.0</td>\n",
              "    </tr>\n",
              "  </tbody>\n",
              "</table>\n",
              "<p>500 rows × 2 columns</p>\n",
              "</div>\n",
              "      <button class=\"colab-df-convert\" onclick=\"convertToInteractive('df-9de7671d-b02c-4386-9176-e213d2a490f6')\"\n",
              "              title=\"Convert this dataframe to an interactive table.\"\n",
              "              style=\"display:none;\">\n",
              "        \n",
              "  <svg xmlns=\"http://www.w3.org/2000/svg\" height=\"24px\"viewBox=\"0 0 24 24\"\n",
              "       width=\"24px\">\n",
              "    <path d=\"M0 0h24v24H0V0z\" fill=\"none\"/>\n",
              "    <path d=\"M18.56 5.44l.94 2.06.94-2.06 2.06-.94-2.06-.94-.94-2.06-.94 2.06-2.06.94zm-11 1L8.5 8.5l.94-2.06 2.06-.94-2.06-.94L8.5 2.5l-.94 2.06-2.06.94zm10 10l.94 2.06.94-2.06 2.06-.94-2.06-.94-.94-2.06-.94 2.06-2.06.94z\"/><path d=\"M17.41 7.96l-1.37-1.37c-.4-.4-.92-.59-1.43-.59-.52 0-1.04.2-1.43.59L10.3 9.45l-7.72 7.72c-.78.78-.78 2.05 0 2.83L4 21.41c.39.39.9.59 1.41.59.51 0 1.02-.2 1.41-.59l7.78-7.78 2.81-2.81c.8-.78.8-2.07 0-2.86zM5.41 20L4 18.59l7.72-7.72 1.47 1.35L5.41 20z\"/>\n",
              "  </svg>\n",
              "      </button>\n",
              "      \n",
              "  <style>\n",
              "    .colab-df-container {\n",
              "      display:flex;\n",
              "      flex-wrap:wrap;\n",
              "      gap: 12px;\n",
              "    }\n",
              "\n",
              "    .colab-df-convert {\n",
              "      background-color: #E8F0FE;\n",
              "      border: none;\n",
              "      border-radius: 50%;\n",
              "      cursor: pointer;\n",
              "      display: none;\n",
              "      fill: #1967D2;\n",
              "      height: 32px;\n",
              "      padding: 0 0 0 0;\n",
              "      width: 32px;\n",
              "    }\n",
              "\n",
              "    .colab-df-convert:hover {\n",
              "      background-color: #E2EBFA;\n",
              "      box-shadow: 0px 1px 2px rgba(60, 64, 67, 0.3), 0px 1px 3px 1px rgba(60, 64, 67, 0.15);\n",
              "      fill: #174EA6;\n",
              "    }\n",
              "\n",
              "    [theme=dark] .colab-df-convert {\n",
              "      background-color: #3B4455;\n",
              "      fill: #D2E3FC;\n",
              "    }\n",
              "\n",
              "    [theme=dark] .colab-df-convert:hover {\n",
              "      background-color: #434B5C;\n",
              "      box-shadow: 0px 1px 3px 1px rgba(0, 0, 0, 0.15);\n",
              "      filter: drop-shadow(0px 1px 2px rgba(0, 0, 0, 0.3));\n",
              "      fill: #FFFFFF;\n",
              "    }\n",
              "  </style>\n",
              "\n",
              "      <script>\n",
              "        const buttonEl =\n",
              "          document.querySelector('#df-9de7671d-b02c-4386-9176-e213d2a490f6 button.colab-df-convert');\n",
              "        buttonEl.style.display =\n",
              "          google.colab.kernel.accessAllowed ? 'block' : 'none';\n",
              "\n",
              "        async function convertToInteractive(key) {\n",
              "          const element = document.querySelector('#df-9de7671d-b02c-4386-9176-e213d2a490f6');\n",
              "          const dataTable =\n",
              "            await google.colab.kernel.invokeFunction('convertToInteractive',\n",
              "                                                     [key], {});\n",
              "          if (!dataTable) return;\n",
              "\n",
              "          const docLinkHtml = 'Like what you see? Visit the ' +\n",
              "            '<a target=\"_blank\" href=https://colab.research.google.com/notebooks/data_table.ipynb>data table notebook</a>'\n",
              "            + ' to learn more about interactive tables.';\n",
              "          element.innerHTML = '';\n",
              "          dataTable['output_type'] = 'display_data';\n",
              "          await google.colab.output.renderOutput(dataTable, element);\n",
              "          const docLink = document.createElement('div');\n",
              "          docLink.innerHTML = docLinkHtml;\n",
              "          element.appendChild(docLink);\n",
              "        }\n",
              "      </script>\n",
              "    </div>\n",
              "  </div>\n",
              "  "
            ]
          },
          "metadata": {},
          "execution_count": 25
        }
      ]
    },
    {
      "cell_type": "code",
      "source": [
        "clf = Ridge(alpha=2**-4)\n",
        "clf.fit(x.iloc[:500], y.iloc[:500])\n",
        "pd.DataFrame([clf.predict(x.iloc[:500]), lr.predict(x.iloc[:500]), y.iloc[:500]]).T"
      ],
      "metadata": {
        "colab": {
          "base_uri": "https://localhost:8080/",
          "height": 424
        },
        "id": "ketQY5vQ0q1x",
        "outputId": "08d191b7-1d41-486b-92cb-d2e582976e6c"
      },
      "execution_count": null,
      "outputs": [
        {
          "output_type": "execute_result",
          "data": {
            "text/plain": [
              "                 0              1         2\n",
              "0    130744.086460  134424.611618  170000.0\n",
              "1    293509.985217  307984.340606  220000.0\n",
              "2    269206.939997  288749.647002  365000.0\n",
              "3    297731.447226  289914.321334  320000.0\n",
              "4    274199.922959  263536.308547  200000.0\n",
              "..             ...            ...       ...\n",
              "495  492662.092816  532238.025828  349950.0\n",
              "496  384981.873654  378259.376052  550000.0\n",
              "497  299444.807512  301417.768073  295000.0\n",
              "498  323789.163973  339561.210438  350000.0\n",
              "499  553446.073914  546019.238191  525000.0\n",
              "\n",
              "[500 rows x 3 columns]"
            ],
            "text/html": [
              "\n",
              "  <div id=\"df-13b31ae0-0bf2-4f03-89d9-be229bea0fcb\">\n",
              "    <div class=\"colab-df-container\">\n",
              "      <div>\n",
              "<style scoped>\n",
              "    .dataframe tbody tr th:only-of-type {\n",
              "        vertical-align: middle;\n",
              "    }\n",
              "\n",
              "    .dataframe tbody tr th {\n",
              "        vertical-align: top;\n",
              "    }\n",
              "\n",
              "    .dataframe thead th {\n",
              "        text-align: right;\n",
              "    }\n",
              "</style>\n",
              "<table border=\"1\" class=\"dataframe\">\n",
              "  <thead>\n",
              "    <tr style=\"text-align: right;\">\n",
              "      <th></th>\n",
              "      <th>0</th>\n",
              "      <th>1</th>\n",
              "      <th>2</th>\n",
              "    </tr>\n",
              "  </thead>\n",
              "  <tbody>\n",
              "    <tr>\n",
              "      <th>0</th>\n",
              "      <td>130744.086460</td>\n",
              "      <td>134424.611618</td>\n",
              "      <td>170000.0</td>\n",
              "    </tr>\n",
              "    <tr>\n",
              "      <th>1</th>\n",
              "      <td>293509.985217</td>\n",
              "      <td>307984.340606</td>\n",
              "      <td>220000.0</td>\n",
              "    </tr>\n",
              "    <tr>\n",
              "      <th>2</th>\n",
              "      <td>269206.939997</td>\n",
              "      <td>288749.647002</td>\n",
              "      <td>365000.0</td>\n",
              "    </tr>\n",
              "    <tr>\n",
              "      <th>3</th>\n",
              "      <td>297731.447226</td>\n",
              "      <td>289914.321334</td>\n",
              "      <td>320000.0</td>\n",
              "    </tr>\n",
              "    <tr>\n",
              "      <th>4</th>\n",
              "      <td>274199.922959</td>\n",
              "      <td>263536.308547</td>\n",
              "      <td>200000.0</td>\n",
              "    </tr>\n",
              "    <tr>\n",
              "      <th>...</th>\n",
              "      <td>...</td>\n",
              "      <td>...</td>\n",
              "      <td>...</td>\n",
              "    </tr>\n",
              "    <tr>\n",
              "      <th>495</th>\n",
              "      <td>492662.092816</td>\n",
              "      <td>532238.025828</td>\n",
              "      <td>349950.0</td>\n",
              "    </tr>\n",
              "    <tr>\n",
              "      <th>496</th>\n",
              "      <td>384981.873654</td>\n",
              "      <td>378259.376052</td>\n",
              "      <td>550000.0</td>\n",
              "    </tr>\n",
              "    <tr>\n",
              "      <th>497</th>\n",
              "      <td>299444.807512</td>\n",
              "      <td>301417.768073</td>\n",
              "      <td>295000.0</td>\n",
              "    </tr>\n",
              "    <tr>\n",
              "      <th>498</th>\n",
              "      <td>323789.163973</td>\n",
              "      <td>339561.210438</td>\n",
              "      <td>350000.0</td>\n",
              "    </tr>\n",
              "    <tr>\n",
              "      <th>499</th>\n",
              "      <td>553446.073914</td>\n",
              "      <td>546019.238191</td>\n",
              "      <td>525000.0</td>\n",
              "    </tr>\n",
              "  </tbody>\n",
              "</table>\n",
              "<p>500 rows × 3 columns</p>\n",
              "</div>\n",
              "      <button class=\"colab-df-convert\" onclick=\"convertToInteractive('df-13b31ae0-0bf2-4f03-89d9-be229bea0fcb')\"\n",
              "              title=\"Convert this dataframe to an interactive table.\"\n",
              "              style=\"display:none;\">\n",
              "        \n",
              "  <svg xmlns=\"http://www.w3.org/2000/svg\" height=\"24px\"viewBox=\"0 0 24 24\"\n",
              "       width=\"24px\">\n",
              "    <path d=\"M0 0h24v24H0V0z\" fill=\"none\"/>\n",
              "    <path d=\"M18.56 5.44l.94 2.06.94-2.06 2.06-.94-2.06-.94-.94-2.06-.94 2.06-2.06.94zm-11 1L8.5 8.5l.94-2.06 2.06-.94-2.06-.94L8.5 2.5l-.94 2.06-2.06.94zm10 10l.94 2.06.94-2.06 2.06-.94-2.06-.94-.94-2.06-.94 2.06-2.06.94z\"/><path d=\"M17.41 7.96l-1.37-1.37c-.4-.4-.92-.59-1.43-.59-.52 0-1.04.2-1.43.59L10.3 9.45l-7.72 7.72c-.78.78-.78 2.05 0 2.83L4 21.41c.39.39.9.59 1.41.59.51 0 1.02-.2 1.41-.59l7.78-7.78 2.81-2.81c.8-.78.8-2.07 0-2.86zM5.41 20L4 18.59l7.72-7.72 1.47 1.35L5.41 20z\"/>\n",
              "  </svg>\n",
              "      </button>\n",
              "      \n",
              "  <style>\n",
              "    .colab-df-container {\n",
              "      display:flex;\n",
              "      flex-wrap:wrap;\n",
              "      gap: 12px;\n",
              "    }\n",
              "\n",
              "    .colab-df-convert {\n",
              "      background-color: #E8F0FE;\n",
              "      border: none;\n",
              "      border-radius: 50%;\n",
              "      cursor: pointer;\n",
              "      display: none;\n",
              "      fill: #1967D2;\n",
              "      height: 32px;\n",
              "      padding: 0 0 0 0;\n",
              "      width: 32px;\n",
              "    }\n",
              "\n",
              "    .colab-df-convert:hover {\n",
              "      background-color: #E2EBFA;\n",
              "      box-shadow: 0px 1px 2px rgba(60, 64, 67, 0.3), 0px 1px 3px 1px rgba(60, 64, 67, 0.15);\n",
              "      fill: #174EA6;\n",
              "    }\n",
              "\n",
              "    [theme=dark] .colab-df-convert {\n",
              "      background-color: #3B4455;\n",
              "      fill: #D2E3FC;\n",
              "    }\n",
              "\n",
              "    [theme=dark] .colab-df-convert:hover {\n",
              "      background-color: #434B5C;\n",
              "      box-shadow: 0px 1px 3px 1px rgba(0, 0, 0, 0.15);\n",
              "      filter: drop-shadow(0px 1px 2px rgba(0, 0, 0, 0.3));\n",
              "      fill: #FFFFFF;\n",
              "    }\n",
              "  </style>\n",
              "\n",
              "      <script>\n",
              "        const buttonEl =\n",
              "          document.querySelector('#df-13b31ae0-0bf2-4f03-89d9-be229bea0fcb button.colab-df-convert');\n",
              "        buttonEl.style.display =\n",
              "          google.colab.kernel.accessAllowed ? 'block' : 'none';\n",
              "\n",
              "        async function convertToInteractive(key) {\n",
              "          const element = document.querySelector('#df-13b31ae0-0bf2-4f03-89d9-be229bea0fcb');\n",
              "          const dataTable =\n",
              "            await google.colab.kernel.invokeFunction('convertToInteractive',\n",
              "                                                     [key], {});\n",
              "          if (!dataTable) return;\n",
              "\n",
              "          const docLinkHtml = 'Like what you see? Visit the ' +\n",
              "            '<a target=\"_blank\" href=https://colab.research.google.com/notebooks/data_table.ipynb>data table notebook</a>'\n",
              "            + ' to learn more about interactive tables.';\n",
              "          element.innerHTML = '';\n",
              "          dataTable['output_type'] = 'display_data';\n",
              "          await google.colab.output.renderOutput(dataTable, element);\n",
              "          const docLink = document.createElement('div');\n",
              "          docLink.innerHTML = docLinkHtml;\n",
              "          element.appendChild(docLink);\n",
              "        }\n",
              "      </script>\n",
              "    </div>\n",
              "  </div>\n",
              "  "
            ]
          },
          "metadata": {},
          "execution_count": 27
        }
      ]
    },
    {
      "cell_type": "code",
      "source": [
        "df_temp_x = pd.DataFrame()\n",
        "df_temp_y = []\n",
        "\n",
        "for _ in range(2000):\n",
        "  r = random.randint(0, len(X_train)-1)\n",
        "  df_temp_x = pd.concat([df_temp_x , X_train.iloc[r]], axis = 1)\n",
        "  df_temp_y.append(y_train.iloc[r])\n",
        "\n",
        "df_temp_y = np.array(df_temp_y)\n",
        "df_temp_x = df_temp_x.T\n",
        "\n",
        "lr2 = LinearRegression().fit(df_temp_x, df_temp_y)\n",
        "rmse_lr2 = sklearn.metrics.mean_squared_error(lr2.predict(X_test), y_test)\n",
        "rmse_lr2"
      ],
      "metadata": {
        "colab": {
          "base_uri": "https://localhost:8080/"
        },
        "id": "e-2r3DF4SFSu",
        "outputId": "8afd56c1-2752-40c9-a7c4-86d194844cae"
      },
      "execution_count": null,
      "outputs": [
        {
          "output_type": "execute_result",
          "data": {
            "text/plain": [
              "114637694350.10835"
            ]
          },
          "metadata": {},
          "execution_count": 45
        }
      ]
    },
    {
      "cell_type": "code",
      "source": [
        "# lr2.predict(np.array(X_test.iloc[0]))\n",
        "np.dot(lr2.coef_, np.array(X_test.iloc[99]).T), y_test[99]"
      ],
      "metadata": {
        "colab": {
          "base_uri": "https://localhost:8080/"
        },
        "id": "oeCrUzuQaFmN",
        "outputId": "86077e92-e2ec-4fdb-c487-80b41f779705"
      },
      "execution_count": null,
      "outputs": [
        {
          "output_type": "execute_result",
          "data": {
            "text/plain": [
              "(-613274.5180542705, 155000)"
            ]
          },
          "metadata": {},
          "execution_count": 52
        }
      ]
    },
    {
      "cell_type": "code",
      "source": [
        "degree=2\n",
        "df_temp_x = pd.DataFrame()\n",
        "df_temp_y = []\n",
        "\n",
        "for _ in range(1000):\n",
        "  r = random.randint(0, len(X_train)-1)\n",
        "  df_temp_x = pd.concat([df_temp_x , X_train.iloc[r]], axis = 1)\n",
        "  df_temp_y.append(y_train.iloc[r])\n",
        "\n",
        "df_temp_y = np.array(df_temp_y)\n",
        "df_temp_x = df_temp_x.T\n",
        "\n",
        "polyreg=make_pipeline(PolynomialFeatures(degree),LinearRegression())\n",
        "polyreg.fit(df_temp_x,df_temp_y)"
      ],
      "metadata": {
        "colab": {
          "base_uri": "https://localhost:8080/"
        },
        "id": "SsxjysFhITuD",
        "outputId": "8cae6887-1444-4172-a143-bc46c6c523e5"
      },
      "execution_count": null,
      "outputs": [
        {
          "output_type": "execute_result",
          "data": {
            "text/plain": [
              "Pipeline(steps=[('polynomialfeatures', PolynomialFeatures()),\n",
              "                ('linearregression', LinearRegression())])"
            ]
          },
          "metadata": {},
          "execution_count": 30
        }
      ]
    },
    {
      "cell_type": "code",
      "source": [
        "rmse_pr = sklearn.metrics.mean_squared_error(polyreg.predict(X_test), y_test)"
      ],
      "metadata": {
        "id": "-u-FRf4YLl01"
      },
      "execution_count": null,
      "outputs": []
    },
    {
      "cell_type": "code",
      "source": [
        "rmse_pr"
      ],
      "metadata": {
        "colab": {
          "base_uri": "https://localhost:8080/"
        },
        "id": "-yHxfFT_N3LF",
        "outputId": "6ef4e1c8-08c6-4580-ad3b-ab15e9807a2c"
      },
      "execution_count": null,
      "outputs": [
        {
          "output_type": "execute_result",
          "data": {
            "text/plain": [
              "278139289897.765"
            ]
          },
          "metadata": {},
          "execution_count": 32
        }
      ]
    },
    {
      "cell_type": "markdown",
      "source": [
        "# NEW"
      ],
      "metadata": {
        "id": "JMxYGF9lvpsj"
      }
    },
    {
      "cell_type": "code",
      "source": [
        "data = pd.read_excel('/content/drive/MyDrive/PC503_project/data/aberdeenshire_data_houses.xlsx')\n",
        "data = data.drop(['Unnamed: 0', 'id'], axis = 1)\n",
        "# tenure categorical to numerical\n",
        "tenure_data = {'Freehold':0, 'Leasehold':1, 'Not available':2, 'Share of freehold':0}\n",
        "\n",
        "data['tenure'] = data['tenure'].replace(tenure_data.keys(), tenure_data.values())\n",
        "\n",
        "x = data[['bed', 'bath', 'reception', 'lat', 'lon', 'ch', 'dg']]\n",
        "\n",
        "# ['bed', 'bath', 'reception', 'terrace', 'house', 'flat', 'bungalow', 'tenure', 'lat', 'lon', 'ch', 'dg']\n",
        "\n",
        "y = data['price']\n",
        "\n",
        "X_train, X_test, y_train, y_test = train_test_split(x, y, test_size=0.33, random_state=42)\n",
        "\n",
        "# lr = LinearRegression().fit(x.iloc[:200], y.iloc[:200])\n",
        "lr = LinearRegression().fit(X_train, y_train)\n",
        "\n",
        "clf = Ridge(alpha=2**-2)\n",
        "clf.fit(X_train, y_train)\n",
        "\n",
        "degree=3\n",
        "polyreg=make_pipeline(PolynomialFeatures(degree),LinearRegression())\n",
        "polyreg.fit(X_train, y_train)\n",
        "\n",
        "# tree regressor\n",
        "treg = DecisionTreeRegressor(random_state = 42)\n",
        "treg.fit(X_train, y_train)\n",
        "\n",
        "lasso = Lasso(alpha=0.5)\n",
        "lasso.fit(X_train, y_train)\n",
        "\n",
        "pd.DataFrame([lr.predict(X_test), clf.predict(X_test), treg.predict(X_test), lasso.predict(X_test),y_test]).T"
      ],
      "metadata": {
        "id": "JJ9txapSR-bd",
        "colab": {
          "base_uri": "https://localhost:8080/",
          "height": 424
        },
        "outputId": "7d14258d-64ec-4e8b-f920-de0695bb7389"
      },
      "execution_count": null,
      "outputs": [
        {
          "output_type": "execute_result",
          "data": {
            "text/plain": [
              "                 0              1          2              3         4\n",
              "0    771778.031729  772163.692334  1250000.0  771780.793326  229995.0\n",
              "1    157209.125589  157147.916539    93997.5  157207.942700  100000.0\n",
              "2    216978.831589  216870.514867   389950.0  216975.125794  230000.0\n",
              "3    144312.661428  144182.663322   185000.0  144312.086136  105000.0\n",
              "4    127715.388630  127606.318962    75000.0  127712.740267   89000.0\n",
              "..             ...            ...        ...            ...       ...\n",
              "233  200239.823884  200065.906513    90000.0  200236.879433   80000.0\n",
              "234  210752.404918  210609.677386   135000.0  210752.017306  140000.0\n",
              "235  123344.749699  123886.336119    52500.0  123349.932611   70000.0\n",
              "236   -6481.839297   -6488.266817    75000.0   -6482.201124   43000.0\n",
              "237  440535.720868  440153.702721   324995.0  440529.439396  324995.0\n",
              "\n",
              "[238 rows x 5 columns]"
            ],
            "text/html": [
              "\n",
              "  <div id=\"df-d0611b9e-2c1c-4371-b07a-8b28825af342\">\n",
              "    <div class=\"colab-df-container\">\n",
              "      <div>\n",
              "<style scoped>\n",
              "    .dataframe tbody tr th:only-of-type {\n",
              "        vertical-align: middle;\n",
              "    }\n",
              "\n",
              "    .dataframe tbody tr th {\n",
              "        vertical-align: top;\n",
              "    }\n",
              "\n",
              "    .dataframe thead th {\n",
              "        text-align: right;\n",
              "    }\n",
              "</style>\n",
              "<table border=\"1\" class=\"dataframe\">\n",
              "  <thead>\n",
              "    <tr style=\"text-align: right;\">\n",
              "      <th></th>\n",
              "      <th>0</th>\n",
              "      <th>1</th>\n",
              "      <th>2</th>\n",
              "      <th>3</th>\n",
              "      <th>4</th>\n",
              "    </tr>\n",
              "  </thead>\n",
              "  <tbody>\n",
              "    <tr>\n",
              "      <th>0</th>\n",
              "      <td>771778.031729</td>\n",
              "      <td>772163.692334</td>\n",
              "      <td>1250000.0</td>\n",
              "      <td>771780.793326</td>\n",
              "      <td>229995.0</td>\n",
              "    </tr>\n",
              "    <tr>\n",
              "      <th>1</th>\n",
              "      <td>157209.125589</td>\n",
              "      <td>157147.916539</td>\n",
              "      <td>93997.5</td>\n",
              "      <td>157207.942700</td>\n",
              "      <td>100000.0</td>\n",
              "    </tr>\n",
              "    <tr>\n",
              "      <th>2</th>\n",
              "      <td>216978.831589</td>\n",
              "      <td>216870.514867</td>\n",
              "      <td>389950.0</td>\n",
              "      <td>216975.125794</td>\n",
              "      <td>230000.0</td>\n",
              "    </tr>\n",
              "    <tr>\n",
              "      <th>3</th>\n",
              "      <td>144312.661428</td>\n",
              "      <td>144182.663322</td>\n",
              "      <td>185000.0</td>\n",
              "      <td>144312.086136</td>\n",
              "      <td>105000.0</td>\n",
              "    </tr>\n",
              "    <tr>\n",
              "      <th>4</th>\n",
              "      <td>127715.388630</td>\n",
              "      <td>127606.318962</td>\n",
              "      <td>75000.0</td>\n",
              "      <td>127712.740267</td>\n",
              "      <td>89000.0</td>\n",
              "    </tr>\n",
              "    <tr>\n",
              "      <th>...</th>\n",
              "      <td>...</td>\n",
              "      <td>...</td>\n",
              "      <td>...</td>\n",
              "      <td>...</td>\n",
              "      <td>...</td>\n",
              "    </tr>\n",
              "    <tr>\n",
              "      <th>233</th>\n",
              "      <td>200239.823884</td>\n",
              "      <td>200065.906513</td>\n",
              "      <td>90000.0</td>\n",
              "      <td>200236.879433</td>\n",
              "      <td>80000.0</td>\n",
              "    </tr>\n",
              "    <tr>\n",
              "      <th>234</th>\n",
              "      <td>210752.404918</td>\n",
              "      <td>210609.677386</td>\n",
              "      <td>135000.0</td>\n",
              "      <td>210752.017306</td>\n",
              "      <td>140000.0</td>\n",
              "    </tr>\n",
              "    <tr>\n",
              "      <th>235</th>\n",
              "      <td>123344.749699</td>\n",
              "      <td>123886.336119</td>\n",
              "      <td>52500.0</td>\n",
              "      <td>123349.932611</td>\n",
              "      <td>70000.0</td>\n",
              "    </tr>\n",
              "    <tr>\n",
              "      <th>236</th>\n",
              "      <td>-6481.839297</td>\n",
              "      <td>-6488.266817</td>\n",
              "      <td>75000.0</td>\n",
              "      <td>-6482.201124</td>\n",
              "      <td>43000.0</td>\n",
              "    </tr>\n",
              "    <tr>\n",
              "      <th>237</th>\n",
              "      <td>440535.720868</td>\n",
              "      <td>440153.702721</td>\n",
              "      <td>324995.0</td>\n",
              "      <td>440529.439396</td>\n",
              "      <td>324995.0</td>\n",
              "    </tr>\n",
              "  </tbody>\n",
              "</table>\n",
              "<p>238 rows × 5 columns</p>\n",
              "</div>\n",
              "      <button class=\"colab-df-convert\" onclick=\"convertToInteractive('df-d0611b9e-2c1c-4371-b07a-8b28825af342')\"\n",
              "              title=\"Convert this dataframe to an interactive table.\"\n",
              "              style=\"display:none;\">\n",
              "        \n",
              "  <svg xmlns=\"http://www.w3.org/2000/svg\" height=\"24px\"viewBox=\"0 0 24 24\"\n",
              "       width=\"24px\">\n",
              "    <path d=\"M0 0h24v24H0V0z\" fill=\"none\"/>\n",
              "    <path d=\"M18.56 5.44l.94 2.06.94-2.06 2.06-.94-2.06-.94-.94-2.06-.94 2.06-2.06.94zm-11 1L8.5 8.5l.94-2.06 2.06-.94-2.06-.94L8.5 2.5l-.94 2.06-2.06.94zm10 10l.94 2.06.94-2.06 2.06-.94-2.06-.94-.94-2.06-.94 2.06-2.06.94z\"/><path d=\"M17.41 7.96l-1.37-1.37c-.4-.4-.92-.59-1.43-.59-.52 0-1.04.2-1.43.59L10.3 9.45l-7.72 7.72c-.78.78-.78 2.05 0 2.83L4 21.41c.39.39.9.59 1.41.59.51 0 1.02-.2 1.41-.59l7.78-7.78 2.81-2.81c.8-.78.8-2.07 0-2.86zM5.41 20L4 18.59l7.72-7.72 1.47 1.35L5.41 20z\"/>\n",
              "  </svg>\n",
              "      </button>\n",
              "      \n",
              "  <style>\n",
              "    .colab-df-container {\n",
              "      display:flex;\n",
              "      flex-wrap:wrap;\n",
              "      gap: 12px;\n",
              "    }\n",
              "\n",
              "    .colab-df-convert {\n",
              "      background-color: #E8F0FE;\n",
              "      border: none;\n",
              "      border-radius: 50%;\n",
              "      cursor: pointer;\n",
              "      display: none;\n",
              "      fill: #1967D2;\n",
              "      height: 32px;\n",
              "      padding: 0 0 0 0;\n",
              "      width: 32px;\n",
              "    }\n",
              "\n",
              "    .colab-df-convert:hover {\n",
              "      background-color: #E2EBFA;\n",
              "      box-shadow: 0px 1px 2px rgba(60, 64, 67, 0.3), 0px 1px 3px 1px rgba(60, 64, 67, 0.15);\n",
              "      fill: #174EA6;\n",
              "    }\n",
              "\n",
              "    [theme=dark] .colab-df-convert {\n",
              "      background-color: #3B4455;\n",
              "      fill: #D2E3FC;\n",
              "    }\n",
              "\n",
              "    [theme=dark] .colab-df-convert:hover {\n",
              "      background-color: #434B5C;\n",
              "      box-shadow: 0px 1px 3px 1px rgba(0, 0, 0, 0.15);\n",
              "      filter: drop-shadow(0px 1px 2px rgba(0, 0, 0, 0.3));\n",
              "      fill: #FFFFFF;\n",
              "    }\n",
              "  </style>\n",
              "\n",
              "      <script>\n",
              "        const buttonEl =\n",
              "          document.querySelector('#df-d0611b9e-2c1c-4371-b07a-8b28825af342 button.colab-df-convert');\n",
              "        buttonEl.style.display =\n",
              "          google.colab.kernel.accessAllowed ? 'block' : 'none';\n",
              "\n",
              "        async function convertToInteractive(key) {\n",
              "          const element = document.querySelector('#df-d0611b9e-2c1c-4371-b07a-8b28825af342');\n",
              "          const dataTable =\n",
              "            await google.colab.kernel.invokeFunction('convertToInteractive',\n",
              "                                                     [key], {});\n",
              "          if (!dataTable) return;\n",
              "\n",
              "          const docLinkHtml = 'Like what you see? Visit the ' +\n",
              "            '<a target=\"_blank\" href=https://colab.research.google.com/notebooks/data_table.ipynb>data table notebook</a>'\n",
              "            + ' to learn more about interactive tables.';\n",
              "          element.innerHTML = '';\n",
              "          dataTable['output_type'] = 'display_data';\n",
              "          await google.colab.output.renderOutput(dataTable, element);\n",
              "          const docLink = document.createElement('div');\n",
              "          docLink.innerHTML = docLinkHtml;\n",
              "          element.appendChild(docLink);\n",
              "        }\n",
              "      </script>\n",
              "    </div>\n",
              "  </div>\n",
              "  "
            ]
          },
          "metadata": {},
          "execution_count": 3
        }
      ]
    },
    {
      "cell_type": "code",
      "source": [
        "plt.figure(figsize = (10,10))\n",
        "sns.heatmap(data.corr(), annot = True)"
      ],
      "metadata": {
        "colab": {
          "base_uri": "https://localhost:8080/",
          "height": 651
        },
        "id": "GLXbQlfDwVjO",
        "outputId": "b8a5ffcc-66ce-431f-99ae-72fd74430b7f"
      },
      "execution_count": null,
      "outputs": [
        {
          "output_type": "execute_result",
          "data": {
            "text/plain": [
              "<matplotlib.axes._subplots.AxesSubplot at 0x7f778fc98a90>"
            ]
          },
          "metadata": {},
          "execution_count": 14
        },
        {
          "output_type": "display_data",
          "data": {
            "text/plain": [
              "<Figure size 720x720 with 2 Axes>"
            ],
            "image/png": "[encoded data removed]"
          },
          "metadata": {
            "needs_background": "light"
          }
        }
      ]
    },
    {
      "cell_type": "code",
      "source": [
        "sklearn.metrics.mean_squared_error(lr.predict(X_test), y_test), sklearn.metrics.mean_squared_error(treg.predict(X_test), y_test), sklearn.metrics.mean_squared_error(lasso.predict(X_test), y_test)"
      ],
      "metadata": {
        "colab": {
          "base_uri": "https://localhost:8080/"
        },
        "id": "mp1yfhEIwb5k",
        "outputId": "4194c118-64fe-4c7b-a8be-aa33af360307"
      },
      "execution_count": null,
      "outputs": [
        {
          "output_type": "execute_result",
          "data": {
            "text/plain": [
              "(148595072742.20746, 129785476228.97794, 148595620873.4635)"
            ]
          },
          "metadata": {},
          "execution_count": 4
        }
      ]
    },
    {
      "cell_type": "code",
      "source": [
        "filename = '/content/drive/MyDrive/PC503_project/Model/test_model.pkl'\n",
        "with open('/content/drive/MyDrive/PC503_project/Model/model_pkl', 'wb') as files:\n",
        "    pickle.dump(treg, files)"
      ],
      "metadata": {
        "id": "LdoChka_w9-H"
      },
      "execution_count": null,
      "outputs": []
    },
    {
      "cell_type": "markdown",
      "source": [
        "# Saving all models"
      ],
      "metadata": {
        "id": "xlEm8WAVOtXl"
      }
    },
    {
      "cell_type": "code",
      "source": [
        "cities = ['birmingham',\n",
        " 'bristol',\n",
        " 'buckinghamshire',\n",
        " 'edinburgh',\n",
        " 'glasgow',\n",
        " 'gloucestershire',\n",
        " 'hampshire',\n",
        " 'liverpool',\n",
        " 'london',\n",
        " 'nottingham',\n",
        " 'oxford',\n",
        " 'sheffield',\n",
        " 'aberdeenshire',\n",
        " 'manchester']\n",
        "\n",
        "for city in cities:\n",
        "  print(city)\n",
        "  data = pd.read_excel(f'/content/drive/MyDrive/PC503_project/data/{city}_data_houses.xlsx')\n",
        "  data = data.drop(['Unnamed: 0', 'id'], axis = 1)\n",
        "  # tenure categorical to numerical\n",
        "  tenure_data = {'Freehold':0, 'Leasehold':1, 'Not available':2, 'Share of freehold':0}\n",
        "\n",
        "  data['tenure'] = data['tenure'].replace(tenure_data.keys(), tenure_data.values())\n",
        "\n",
        "  x = data[['bed', 'bath', 'reception', 'lat', 'lon', 'ch', 'dg']]\n",
        "\n",
        "  # ['bed', 'bath', 'reception', 'terrace', 'house', 'flat', 'bungalow', 'tenure', 'lat', 'lon', 'ch', 'dg']\n",
        "\n",
        "  y = data['price']\n",
        "\n",
        "  X_train, X_test, y_train, y_test = train_test_split(x, y, test_size=0.33, random_state=42)\n",
        "\n",
        "  # linear regression\n",
        "  lr = LinearRegression().fit(X_train, y_train)\n",
        "\n",
        "  # ridge regression\n",
        "  clf = Ridge(alpha=2**-2)\n",
        "  clf.fit(X_train, y_train)\n",
        "\n",
        "  # plynomial regression\n",
        "  # degree=3\n",
        "  # polyreg=make_pipeline(PolynomialFeatures(degree),LinearRegression())\n",
        "  # polyreg.fit(X_train, y_train)\n",
        "\n",
        "  # tree regressor\n",
        "  treg = DecisionTreeRegressor(random_state = 42)\n",
        "  treg.fit(X_train, y_train)\n",
        "\n",
        "  # lasso regressrion\n",
        "  lasso = Lasso(alpha=0.5)\n",
        "  lasso.fit(X_train, y_train)\n",
        "\n",
        "  check = [sklearn.metrics.mean_squared_error(lr.predict(X_test), y_test), sklearn.metrics.mean_squared_error(clf.predict(X_test), y_test), sklearn.metrics.mean_squared_error(treg.predict(X_test), y_test), sklearn.metrics.mean_squared_error(lasso.predict(X_test), y_test)]\n",
        "\n",
        "  min_error = np.array(check).argmin()\n",
        "\n",
        "  filename = f'/content/drive/MyDrive/PC503_project/Model/{city}_model_pkl.pkl'\n",
        "\n",
        "  if min_error == 0:\n",
        "    # lr\n",
        "    with open(filename, 'wb') as files:\n",
        "      pickle.dump(lr, files)\n",
        "\n",
        "  elif min_error == 1:\n",
        "    # clf\n",
        "    with open(filename, 'wb') as files:\n",
        "      pickle.dump(clf, files)\n",
        "\n",
        "  elif min_error == 2:\n",
        "    # treg\n",
        "    with open(filename, 'wb') as files:\n",
        "      pickle.dump(treg, files)\n",
        "  else:\n",
        "    # lasso\n",
        "    with open(filename, 'wb') as files:\n",
        "      pickle.dump(lasso, files)"
      ],
      "metadata": {
        "id": "55YBoo2e0MSU",
        "colab": {
          "base_uri": "https://localhost:8080/"
        },
        "outputId": "9548b1e7-a6e8-4c4f-92be-f90f17e1947e"
      },
      "execution_count": 4,
      "outputs": [
        {
          "output_type": "stream",
          "name": "stdout",
          "text": [
            "birmingham\n",
            "bristol\n",
            "buckinghamshire\n",
            "edinburgh\n",
            "glasgow\n",
            "gloucestershire\n",
            "hampshire\n",
            "liverpool\n",
            "london\n",
            "nottingham\n",
            "oxford\n",
            "sheffield\n",
            "aberdeenshire\n",
            "manchester\n"
          ]
        }
      ]
    },
    {
      "cell_type": "code",
      "source": [
        "X_test.iloc[0]"
      ],
      "metadata": {
        "colab": {
          "base_uri": "https://localhost:8080/"
        },
        "id": "uVAacmZa4kTh",
        "outputId": "aa6c80be-5f44-4658-d5e0-c15aff653c88"
      },
      "execution_count": 7,
      "outputs": [
        {
          "output_type": "execute_result",
          "data": {
            "text/plain": [
              "bed           2.000000\n",
              "bath          2.000000\n",
              "reception     1.000000\n",
              "lat          53.474388\n",
              "lon          -2.291680\n",
              "ch            0.000000\n",
              "dg            0.000000\n",
              "Name: 506, dtype: float64"
            ]
          },
          "metadata": {},
          "execution_count": 7
        }
      ]
    },
    {
      "cell_type": "code",
      "source": [
        "d = {'bed':3, 'bath':1, 'reception':1, 'lat':52.478308, 'lon': -1.893538, 'ch':1, 'dg':1}\n",
        "lasso.predict([pd.Series(d)])"
      ],
      "metadata": {
        "colab": {
          "base_uri": "https://localhost:8080/"
        },
        "id": "4ons04Kh4n6w",
        "outputId": "66118e17-e14a-450b-bf1a-83ff3c830e36"
      },
      "execution_count": 17,
      "outputs": [
        {
          "output_type": "stream",
          "name": "stderr",
          "text": [
            "/usr/local/lib/python3.8/dist-packages/sklearn/base.py:450: UserWarning: X does not have valid feature names, but Lasso was fitted with feature names\n",
            "  warnings.warn(\n"
          ]
        },
        {
          "output_type": "execute_result",
          "data": {
            "text/plain": [
              "array([541806.15108764])"
            ]
          },
          "metadata": {},
          "execution_count": 17
        }
      ]
    },
    {
      "cell_type": "code",
      "source": [],
      "metadata": {
        "id": "V-l9k-EL7lKC"
      },
      "execution_count": null,
      "outputs": []
    }
  ]
}